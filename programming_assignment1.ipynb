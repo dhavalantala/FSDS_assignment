{
 "cells": [
  {
   "cell_type": "code",
   "execution_count": 1,
   "id": "5b800d6e",
   "metadata": {},
   "outputs": [
    {
     "name": "stdout",
     "output_type": "stream",
     "text": [
      "Hello Python\n"
     ]
    }
   ],
   "source": [
    "print(\"Hello Python\")"
   ]
  },
  {
   "cell_type": "code",
   "execution_count": 6,
   "id": "e1354dc4",
   "metadata": {},
   "outputs": [
    {
     "name": "stdout",
     "output_type": "stream",
     "text": [
      "Enter a value: 10\n",
      "Enter a value: 5\n"
     ]
    }
   ],
   "source": [
    "a = float(input(\"Enter a value: \"))\n",
    "b = float(input(\"Enter a value: \"))"
   ]
  },
  {
   "cell_type": "code",
   "execution_count": 7,
   "id": "1546b8c0",
   "metadata": {},
   "outputs": [
    {
     "data": {
      "text/plain": [
       "15.0"
      ]
     },
     "execution_count": 7,
     "metadata": {},
     "output_type": "execute_result"
    }
   ],
   "source": [
    "a+b"
   ]
  },
  {
   "cell_type": "code",
   "execution_count": 8,
   "id": "6d7278f0",
   "metadata": {},
   "outputs": [
    {
     "data": {
      "text/plain": [
       "2.0"
      ]
     },
     "execution_count": 8,
     "metadata": {},
     "output_type": "execute_result"
    }
   ],
   "source": [
    "a/b"
   ]
  },
  {
   "cell_type": "code",
   "execution_count": 87,
   "id": "99c37821",
   "metadata": {},
   "outputs": [
    {
     "name": "stdout",
     "output_type": "stream",
     "text": [
      "Enter a value of first side: 3\n",
      "Enter a value of second side: 6\n",
      "Enter a value of third side: 7\n",
      "8.0\n",
      "The area of the triangle is 8.94\n"
     ]
    }
   ],
   "source": [
    "a = float(input(\"Enter a value of first side: \"))\n",
    "b = float(input(\"Enter a value of second side: \"))\n",
    "c = float(input(\"Enter a value of third side: \"))\n",
    "\n",
    "# triangle peri\n",
    "d = (a+b+c)/2\n",
    "print(d)\n",
    "#area\n",
    "area = (d*(d-a)*(d-b)*(d-c))**0.5\n",
    "\n",
    "print('The area of the triangle is %0.2f' %area) "
   ]
  },
  {
   "cell_type": "code",
   "execution_count": null,
   "id": "4b84b685",
   "metadata": {},
   "outputs": [],
   "source": []
  },
  {
   "cell_type": "code",
   "execution_count": 113,
   "id": "bb0ca444",
   "metadata": {},
   "outputs": [
    {
     "name": "stdout",
     "output_type": "stream",
     "text": [
      "Enter the values of z: 11\n",
      "Enter the values of x: 99\n",
      "before swaping the values of z 11\n",
      "before swaping the values of x 99\n",
      "after swapping a values ---->>\n",
      "after swaping the values of z 99\n",
      "after swaping the values of x 11\n"
     ]
    }
   ],
   "source": [
    "z = input(\"Enter the values of z: \")\n",
    "x = input(\"Enter the values of x: \")\n",
    "print(\"before swaping the values of z {}\".format(z))\n",
    "print(\"before swaping the values of x {}\".format(x))\n",
    "z,x = x,z\n",
    "print(\"after swapping a values ---->>\")\n",
    "print(\"after swaping the values of z {}\".format(z))\n",
    "print(\"after swaping the values of x {}\".format(x))"
   ]
  },
  {
   "cell_type": "code",
   "execution_count": null,
   "id": "00568159",
   "metadata": {},
   "outputs": [],
   "source": []
  },
  {
   "cell_type": "code",
   "execution_count": 103,
   "id": "2cb01bfc",
   "metadata": {},
   "outputs": [],
   "source": [
    "import random"
   ]
  },
  {
   "cell_type": "code",
   "execution_count": 115,
   "id": "aa093a3b",
   "metadata": {},
   "outputs": [
    {
     "name": "stdout",
     "output_type": "stream",
     "text": [
      "83\n"
     ]
    }
   ],
   "source": [
    "print(random.randint(0, 100))"
   ]
  },
  {
   "cell_type": "code",
   "execution_count": null,
   "id": "84932340",
   "metadata": {},
   "outputs": [],
   "source": []
  }
 ],
 "metadata": {
  "kernelspec": {
   "display_name": "Python 3 (ipykernel)",
   "language": "python",
   "name": "python3"
  },
  "language_info": {
   "codemirror_mode": {
    "name": "ipython",
    "version": 3
   },
   "file_extension": ".py",
   "mimetype": "text/x-python",
   "name": "python",
   "nbconvert_exporter": "python",
   "pygments_lexer": "ipython3",
   "version": "3.9.10"
  }
 },
 "nbformat": 4,
 "nbformat_minor": 5
}
