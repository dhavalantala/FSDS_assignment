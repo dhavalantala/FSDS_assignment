{
  "nbformat": 4,
  "nbformat_minor": 0,
  "metadata": {
    "colab": {
      "provenance": [],
      "collapsed_sections": []
    },
    "kernelspec": {
      "name": "python3",
      "display_name": "Python 3"
    },
    "language_info": {
      "name": "python"
    }
  },
  "cells": [
    {
      "cell_type": "code",
      "execution_count": 9,
      "metadata": {
        "colab": {
          "base_uri": "https://localhost:8080/"
        },
        "id": "OHKFgcfsJKFR",
        "outputId": "f3ca4b90-c107-4105-d67d-51359358f180"
      },
      "outputs": [
        {
          "output_type": "stream",
          "name": "stdout",
          "text": [
            "Enter the value in KM: 10.10\n",
            "10.10 kilometer is equal to 6.28 miles\n"
          ]
        }
      ],
      "source": [
        "kilo_meter = float(input(\"Enter the value in KM: \"))\n",
        "miles = 0.621371 * kilo_meter\n",
        "print('%0.2f kilometer is equal to %0.2f miles' %(kilo_meter, miles))"
      ]
    },
    {
      "cell_type": "code",
      "source": [
        "celcius = float(input(\"Enter the value in Celsius: \"))\n",
        "fahrenheit = (celcius * 9/5) + 32 \n",
        "print(\"%0.2f Celsius is equal to %0.2f Fahrenheit\" %(celcius, fahrenheit))"
      ],
      "metadata": {
        "colab": {
          "base_uri": "https://localhost:8080/"
        },
        "id": "7J8QWVWyJj86",
        "outputId": "a147e0e6-fccf-4b88-ca03-0f284d1d0087"
      },
      "execution_count": 14,
      "outputs": [
        {
          "output_type": "stream",
          "name": "stdout",
          "text": [
            "Enter the value in Celsius: 1\n",
            "1.00 Celsius is equal to 33.80 Fahrenheit\n"
          ]
        }
      ]
    },
    {
      "cell_type": "code",
      "source": [
        "import calendar\n",
        "\n",
        "yy = int(input(\"Enter the year: \"))\n",
        "mm = int(input(\"Enter the month: \"))\n",
        "\n",
        "print(calendar.month(yy, mm))"
      ],
      "metadata": {
        "colab": {
          "base_uri": "https://localhost:8080/"
        },
        "id": "zrGSPX8uLCn4",
        "outputId": "7d8663d5-1012-494d-da95-1f6a83c29021"
      },
      "execution_count": 22,
      "outputs": [
        {
          "output_type": "stream",
          "name": "stdout",
          "text": [
            "Enter the year: 2022\n",
            "Enter the month: 10\n",
            "    October 2022\n",
            "Mo Tu We Th Fr Sa Su\n",
            "                1  2\n",
            " 3  4  5  6  7  8  9\n",
            "10 11 12 13 14 15 16\n",
            "17 18 19 20 21 22 23\n",
            "24 25 26 27 28 29 30\n",
            "31\n",
            "\n"
          ]
        }
      ]
    },
    {
      "cell_type": "code",
      "source": [
        "import math\n",
        "\n",
        "# ax2 + bx + c = 0, where\n",
        "# a, b and c are real numbers and\n",
        "# a ≠ 0\n",
        "\n",
        "a = float(input(\"Enter the calue of the a: \"))\n",
        "b = float(input(\"Enter the calue of the b: \"))\n",
        "c = float(input(\"Enter the calue of the c: \"))\n",
        "\n",
        "\n",
        "if a != 0:\n",
        "  print(\"Excution is possible\")\n",
        "  delta = (b**2) - (4*a*c)\n",
        "  value = math.sqrt(abs(delta))\n",
        "  print(value)\n",
        "  if delta > 0: \n",
        "    print(\" real and different roots \") \n",
        "    print((-b + value)/(2 * a))\n",
        "    print((-b - value)/(2 * a)) \n",
        "\n",
        "  elif delta == 0:\n",
        "    print(\" real and same roots\") \n",
        "    print(-b / (2 * a))\n",
        "\n",
        "  else:\n",
        "    print(\"Complex Roots\") \n",
        "    print(- b / (2 * a), \" + i\", value) \n",
        "    print(- b / (2 * a), \" - i\", value)  \n",
        "\n",
        "else:\n",
        "  print(\"this is not a quadratic equation\")"
      ],
      "metadata": {
        "colab": {
          "base_uri": "https://localhost:8080/"
        },
        "id": "99LJsaEOLo7a",
        "outputId": "3be5d667-2735-4e77-8552-f4b34ff9e2f7"
      },
      "execution_count": 38,
      "outputs": [
        {
          "output_type": "stream",
          "name": "stdout",
          "text": [
            "Enter the calue of the a: 9\n",
            "Enter the calue of the b: 7\n",
            "Enter the calue of the c: 5\n",
            "Excution is possible\n",
            "11.445523142259598\n",
            "Complex Roots\n",
            "-0.3888888888888889  + i 11.445523142259598\n",
            "-0.3888888888888889  - i 11.445523142259598\n"
          ]
        }
      ]
    },
    {
      "cell_type": "code",
      "source": [
        "a = input(\"Enter the value: \")\n",
        "b = input(\"Enter the value: \")\n",
        "\n",
        "print(\"Before swiping the original values of a is\", a, \"and b is\", b)\n",
        "\n",
        "a, b = b, a\n",
        "\n",
        "print(\"Aafter swiping the original values of a is\", a, \"and b is\", b)"
      ],
      "metadata": {
        "colab": {
          "base_uri": "https://localhost:8080/"
        },
        "id": "gNLj6dXkNKVi",
        "outputId": "d80fcd92-cc0b-4037-e57e-586c10bc17ce"
      },
      "execution_count": 42,
      "outputs": [
        {
          "output_type": "stream",
          "name": "stdout",
          "text": [
            "Enter the value: 1\n",
            "Enter the value: 2\n",
            "Before swiping the original values of a is 1 and b is 2\n",
            "Aafter swiping the original values of a is 2 and b is 1\n"
          ]
        }
      ]
    },
    {
      "cell_type": "code",
      "source": [
        "\n"
      ],
      "metadata": {
        "id": "bryAIPhsTW8T"
      },
      "execution_count": null,
      "outputs": []
    }
  ]
}